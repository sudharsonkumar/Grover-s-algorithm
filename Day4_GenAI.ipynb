{
  "nbformat": 4,
  "nbformat_minor": 0,
  "metadata": {
    "colab": {
      "provenance": [],
      "include_colab_link": true
    },
    "kernelspec": {
      "name": "python3",
      "display_name": "Python 3"
    },
    "language_info": {
      "name": "python"
    }
  },
  "cells": [
    {
      "cell_type": "markdown",
      "metadata": {
        "id": "view-in-github",
        "colab_type": "text"
      },
      "source": [
        "<a href=\"https://colab.research.google.com/github/sudharsonkumar/Grover-s-algorithm/blob/main/Day4_GenAI.ipynb\" target=\"_parent\"><img src=\"https://colab.research.google.com/assets/colab-badge.svg\" alt=\"Open In Colab\"/></a>"
      ]
    },
    {
      "cell_type": "markdown",
      "source": [
        "Evaluation Metrics"
      ],
      "metadata": {
        "id": "OvYPJvHns-Hm"
      }
    },
    {
      "cell_type": "code",
      "execution_count": null,
      "metadata": {
        "id": "2ZSDAsAcsHMu"
      },
      "outputs": [],
      "source": [
        "from sklearn.metrics import accuracy_score, precision_score, recall_score, confusion_matrix\n",
        "import numpy as np"
      ]
    },
    {
      "cell_type": "code",
      "source": [
        "# Example data\n",
        "y_true = np.array([0, 1, 1, 0, 1, 1, 0, 0, 1, 1])\n",
        "y_pred = np.array([0, 1, 0, 0, 1, 1, 0, 1, 1, 0])\n",
        "\n",
        "# Calculate the confusion matrix\n",
        "conf_matrix = confusion_matrix(y_true, y_pred)\n",
        "\n",
        "# Print the confusion matrix\n",
        "print(\"Confusion Matrix:\")\n",
        "print(conf_matrix)"
      ],
      "metadata": {
        "colab": {
          "base_uri": "https://localhost:8080/"
        },
        "id": "dtMQOFZcsT5e",
        "outputId": "c870e49f-1aef-44f9-a9db-7d0989aeb4bd"
      },
      "execution_count": null,
      "outputs": [
        {
          "output_type": "stream",
          "name": "stdout",
          "text": [
            "Confusion Matrix:\n",
            "[[3 1]\n",
            " [2 4]]\n"
          ]
        }
      ]
    },
    {
      "cell_type": "code",
      "source": [
        "#Accuracy\n",
        "accuracy = accuracy_score(y_true, y_pred)\n",
        "print(\"Accuracy:\", accuracy)"
      ],
      "metadata": {
        "colab": {
          "base_uri": "https://localhost:8080/"
        },
        "id": "YZHLYEoUsqOj",
        "outputId": "0eb1c9b2-1051-4d4f-9a8f-13fc1acfeae7"
      },
      "execution_count": null,
      "outputs": [
        {
          "output_type": "stream",
          "name": "stdout",
          "text": [
            "Accuracy: 0.7\n"
          ]
        }
      ]
    },
    {
      "cell_type": "code",
      "source": [
        "#Recall\n",
        "recall = recall_score(y_true, y_pred)\n",
        "print(\"Recall:\", recall)"
      ],
      "metadata": {
        "colab": {
          "base_uri": "https://localhost:8080/"
        },
        "id": "4YMFv5ebs2Dw",
        "outputId": "77284b0a-0dae-4950-c98c-d11d700941bd"
      },
      "execution_count": null,
      "outputs": [
        {
          "output_type": "stream",
          "name": "stdout",
          "text": [
            "Recall: 0.6666666666666666\n"
          ]
        }
      ]
    },
    {
      "cell_type": "code",
      "source": [
        "#Precision\n",
        "precision = precision_score(y_true, y_pred)\n",
        "print(\"Precision:\", precision)"
      ],
      "metadata": {
        "colab": {
          "base_uri": "https://localhost:8080/"
        },
        "id": "l3r3iScFs4ZG",
        "outputId": "ec292a32-2e69-48ea-f9ef-111263aa6a8c"
      },
      "execution_count": null,
      "outputs": [
        {
          "output_type": "stream",
          "name": "stdout",
          "text": [
            "Precision: 0.8\n"
          ]
        }
      ]
    },
    {
      "cell_type": "markdown",
      "source": [
        "K Fold Cross Validation"
      ],
      "metadata": {
        "id": "fDxy6jNCvS_o"
      }
    },
    {
      "cell_type": "code",
      "source": [
        "from sklearn.model_selection import cross_val_score, KFold"
      ],
      "metadata": {
        "id": "63BOCcaOs6QI"
      },
      "execution_count": null,
      "outputs": []
    },
    {
      "cell_type": "code",
      "source": [
        "# Example dataset\n",
        "from sklearn.datasets import load_iris\n",
        "from sklearn.linear_model import LogisticRegression\n",
        "\n",
        "iris = load_iris()\n",
        "X, y = iris.data, iris.target\n",
        "model=LogisticRegression(max_iter=200)"
      ],
      "metadata": {
        "id": "_Wt1g-9qvi7w"
      },
      "execution_count": null,
      "outputs": []
    },
    {
      "cell_type": "code",
      "source": [
        "# K-Fold Cross-Validation\n",
        "kf=KFold(n_splits=5, shuffle=True, random_state=42)\n",
        "kf_scores = cross_val_score(model, X, y, cv=kf)\n",
        "\n",
        "# Print the cross-validation scores\n",
        "print(\"Cross-Validation Scores:\", kf_scores)\n",
        "print(\"Mean Score:\", kf_scores.mean())"
      ],
      "metadata": {
        "colab": {
          "base_uri": "https://localhost:8080/"
        },
        "id": "oKT-1J5lvz2q",
        "outputId": "4d50ed5f-a7e7-40d7-929b-9a8e2cffeba6"
      },
      "execution_count": null,
      "outputs": [
        {
          "output_type": "stream",
          "name": "stdout",
          "text": [
            "Cross-Validation Scores: [1.         1.         0.93333333 0.96666667 0.96666667]\n",
            "Mean Score: 0.9733333333333334\n"
          ]
        }
      ]
    },
    {
      "cell_type": "markdown",
      "source": [
        "Hands On: Comparing different Classification Models"
      ],
      "metadata": {
        "id": "bqwc031swP2P"
      }
    },
    {
      "cell_type": "code",
      "source": [
        "import numpy as np\n",
        "from sklearn.datasets import fetch_openml\n",
        "from sklearn.model_selection import cross_val_score, KFold\n",
        "from sklearn.model_selection import train_test_split\n",
        "from sklearn.preprocessing import StandardScaler\n",
        "from sklearn.linear_model import LogisticRegression\n",
        "from sklearn.svm import SVC\n",
        "from sklearn.ensemble import RandomForestClassifier\n",
        "from sklearn.metrics import accuracy_score\n",
        "from sklearn.pipeline import Pipeline"
      ],
      "metadata": {
        "id": "zLBH7qoyv_oV"
      },
      "execution_count": null,
      "outputs": []
    },
    {
      "cell_type": "code",
      "source": [
        "# Load MNIST dataset\n",
        "mnist = fetch_openml('mnist_784', version=1)\n",
        "X, y = mnist.data, mnist.target"
      ],
      "metadata": {
        "colab": {
          "base_uri": "https://localhost:8080/"
        },
        "id": "n5X7b3yixh_9",
        "outputId": "88dbbbad-e6f8-49fd-f999-32986dc2e4b0"
      },
      "execution_count": null,
      "outputs": [
        {
          "output_type": "stream",
          "name": "stderr",
          "text": [
            "/usr/local/lib/python3.10/dist-packages/sklearn/datasets/_openml.py:1022: FutureWarning: The default value of `parser` will change from `'liac-arff'` to `'auto'` in 1.4. You can set `parser='auto'` to silence this warning. Therefore, an `ImportError` will be raised from 1.4 if the dataset is dense and pandas is not installed. Note that the pandas parser may return different data types. See the Notes Section in fetch_openml's API doc for details.\n",
            "  warn(\n"
          ]
        }
      ]
    },
    {
      "cell_type": "code",
      "source": [
        "# Use a subset of the dataset for quicker computation\n",
        "subset_size = 10000\n",
        "X = X[:subset_size]\n",
        "y = y[:subset_size]"
      ],
      "metadata": {
        "id": "8wUFRY4JyHh8"
      },
      "execution_count": null,
      "outputs": []
    },
    {
      "cell_type": "code",
      "source": [
        "# Standardize the data\n",
        "scaler = StandardScaler()\n",
        "X = scaler.fit_transform(X)"
      ],
      "metadata": {
        "id": "5On6hEsuyYAx"
      },
      "execution_count": null,
      "outputs": []
    },
    {
      "cell_type": "code",
      "source": [
        "# Define models\n",
        "models={\n",
        "    'Logistic Regression': LogisticRegression(max_iter=1000),\n",
        "    'Support Vector Machine': SVC(kernel='linear'),\n",
        "    'Random Forest': RandomForestClassifier(n_estimators=100)\n",
        "}"
      ],
      "metadata": {
        "id": "4mkDxKveykue"
      },
      "execution_count": null,
      "outputs": []
    },
    {
      "cell_type": "code",
      "source": [
        "# K-FOld Cross-Validation\n",
        "kf = KFold(n_splits=5, shuffle=True, random_state=42)\n"
      ],
      "metadata": {
        "id": "gy1RAEOzy28x"
      },
      "execution_count": null,
      "outputs": []
    },
    {
      "cell_type": "code",
      "source": [
        "# Cmpare models\n",
        "for model_name, model in models.items():\n",
        "    pipeline = Pipeline([('model', model)])\n",
        "    scores = cross_val_score(pipeline, X, y, cv=kf, scoring = 'accuracy')\n",
        "    print(f\"{model_name} Accuracy: {np.mean(scores)}\")"
      ],
      "metadata": {
        "colab": {
          "base_uri": "https://localhost:8080/"
        },
        "id": "mQ1MTXiYzK1X",
        "outputId": "d2e667de-da3e-49eb-d2ae-d9f3786a713d"
      },
      "execution_count": null,
      "outputs": [
        {
          "output_type": "stream",
          "name": "stdout",
          "text": [
            "Logistic Regression Accuracy: 0.8877999999999998\n",
            "Support Vector Machine Accuracy: 0.9138999999999999\n",
            "Random Forest Accuracy: 0.9503\n"
          ]
        }
      ]
    },
    {
      "cell_type": "code",
      "source": [
        "# Analyze performance\n",
        "results = {\n",
        "    \"Logistic Regression \": [],\n",
        "    \"Support Vector Machine\": [],\n",
        "    \"Random Forest\": []\n",
        "}"
      ],
      "metadata": {
        "id": "MmLciCLfzYHl"
      },
      "execution_count": null,
      "outputs": []
    },
    {
      "cell_type": "code",
      "source": [
        "# K-Fold Cross-Validation\n",
        "for model_name, model in models.items():\n",
        "  pipeline = Pipeline([('model', model)])\n",
        "  scores = cross_val_score(pipeline, X, y, cv=kf, scoring = 'accuracy')\n",
        "  results[model_name]=scores\n",
        "  print(f\"{model_name} Accuracy: {np.mean(scores)}\")\n",
        "  print(f\"{model_name} Scores: {scores}\")"
      ],
      "metadata": {
        "colab": {
          "base_uri": "https://localhost:8080/"
        },
        "id": "mBVmGNw1zuAa",
        "outputId": "f8fc113e-ce8a-47b4-f442-99d353e0e02a"
      },
      "execution_count": null,
      "outputs": [
        {
          "output_type": "stream",
          "name": "stdout",
          "text": [
            "Logistic Regression Accuracy: 0.8877999999999998\n",
            "Logistic Regression Scores: [0.904  0.8815 0.892  0.873  0.8885]\n",
            "Support Vector Machine Accuracy: 0.9138999999999999\n",
            "Support Vector Machine Scores: [0.9225 0.9105 0.9215 0.9015 0.9135]\n",
            "Random Forest Accuracy: 0.9475999999999999\n",
            "Random Forest Scores: [0.9515 0.953  0.949  0.94   0.9445]\n"
          ]
        }
      ]
    },
    {
      "cell_type": "code",
      "source": [
        "# Plotting results\n",
        "import matplotlib.pyplot as plt\n",
        "\n",
        "plt.figure(figsize=(10, 6))\n",
        "for model_name, scores in results.items():\n",
        "    plt.plot(scores, label=model_name)\n",
        "\n",
        "plt.title('Model Performance Comparison')\n",
        "plt.xlabel('Fold')\n",
        "plt.ylabel('Accuracy')\n",
        "plt.legend()\n",
        "plt.grid(True)"
      ],
      "metadata": {
        "colab": {
          "base_uri": "https://localhost:8080/",
          "height": 419
        },
        "id": "yvI4nild0oYv",
        "outputId": "ea2262a7-0601-49f4-c190-bf8f7296248c"
      },
      "execution_count": null,
      "outputs": [
        {
          "output_type": "display_data",
          "data": {
            "text/plain": [
              "<Figure size 1000x600 with 1 Axes>"
            ],
            "image/png": "[encoded data removed]"
          },
          "metadata": {}
        }
      ]
    },
    {
      "cell_type": "code",
      "source": [],
      "metadata": {
        "id": "VDHseNXF0xRH"
      },
      "execution_count": null,
      "outputs": []
    }
  ]
}